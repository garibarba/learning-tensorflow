{
 "cells": [
  {
   "cell_type": "markdown",
   "metadata": {},
   "source": [
    "Visualize with\n",
    "\n",
    "tensorflow --logdir=./data"
   ]
  },
  {
   "cell_type": "code",
   "execution_count": 1,
   "metadata": {
    "collapsed": false,
    "scrolled": false
   },
   "outputs": [
    {
     "name": "stdout",
     "output_type": "stream",
     "text": [
      "Successfully downloaded train-images-idx3-ubyte.gz 9912422 bytes.\n",
      "Extracting data/train-images-idx3-ubyte.gz\n",
      "Successfully downloaded train-labels-idx1-ubyte.gz 28881 bytes.\n",
      "Extracting data/train-labels-idx1-ubyte.gz\n",
      "Successfully downloaded t10k-images-idx3-ubyte.gz 1648877 bytes.\n",
      "Extracting data/t10k-images-idx3-ubyte.gz\n",
      "Successfully downloaded t10k-labels-idx1-ubyte.gz 4542 bytes.\n",
      "Extracting data/t10k-labels-idx1-ubyte.gz\n",
      "Step 0: loss = 2.30 (0.018 sec)\n",
      "Step 100: loss = 2.18 (0.009 sec)\n",
      "Step 200: loss = 2.00 (0.009 sec)\n",
      "Step 300: loss = 1.73 (0.010 sec)\n",
      "Step 400: loss = 1.49 (0.009 sec)\n",
      "Step 500: loss = 1.01 (0.011 sec)\n",
      "Step 600: loss = 0.95 (0.010 sec)\n",
      "Step 700: loss = 0.70 (0.011 sec)\n",
      "Step 800: loss = 0.59 (0.010 sec)\n",
      "Step 900: loss = 0.54 (0.009 sec)\n",
      "Training Data Eval:\n",
      "  Num examples: 55000  Num correct: 46959  Precision @ 1: 0.8538\n",
      "Validation Data Eval:\n",
      "  Num examples: 5000  Num correct: 4307  Precision @ 1: 0.8614\n",
      "Test Data Eval:\n",
      "  Num examples: 10000  Num correct: 8626  Precision @ 1: 0.8626\n",
      "Step 1000: loss = 0.55 (0.016 sec)\n",
      "Step 1100: loss = 0.60 (0.150 sec)\n",
      "Step 1200: loss = 0.64 (0.008 sec)\n",
      "Step 1300: loss = 0.47 (0.010 sec)\n",
      "Step 1400: loss = 0.40 (0.010 sec)\n",
      "Step 1500: loss = 0.43 (0.010 sec)\n",
      "Step 1600: loss = 0.46 (0.009 sec)\n",
      "Step 1700: loss = 0.42 (0.010 sec)\n",
      "Step 1800: loss = 0.33 (0.009 sec)\n",
      "Step 1900: loss = 0.30 (0.009 sec)\n",
      "Training Data Eval:\n",
      "  Num examples: 55000  Num correct: 49213  Precision @ 1: 0.8948\n",
      "Validation Data Eval:\n",
      "  Num examples: 5000  Num correct: 4511  Precision @ 1: 0.9022\n",
      "Test Data Eval:\n",
      "  Num examples: 10000  Num correct: 8998  Precision @ 1: 0.8998\n"
     ]
    }
   ],
   "source": [
    "%run \"../tensorflow/tensorflow/examples/tutorials/mnist/fully_connected_feed.py\""
   ]
  },
  {
   "cell_type": "markdown",
   "metadata": {},
   "source": [
    "Visualize with\n",
    "\n",
    "tensorflow --logdir=/tmp/mnist_logs"
   ]
  },
  {
   "cell_type": "code",
   "execution_count": null,
   "metadata": {
    "collapsed": false
   },
   "outputs": [
    {
     "name": "stdout",
     "output_type": "stream",
     "text": [
      "Successfully downloaded train-images-idx3-ubyte.gz 9912422 bytes.\n",
      "Extracting /tmp/data/train-images-idx3-ubyte.gz\n",
      "Successfully downloaded train-labels-idx1-ubyte.gz 28881 bytes.\n",
      "Extracting /tmp/data/train-labels-idx1-ubyte.gz\n",
      "Successfully downloaded t10k-images-idx3-ubyte.gz 1648877 bytes.\n",
      "Extracting /tmp/data/t10k-images-idx3-ubyte.gz\n",
      "Successfully downloaded t10k-labels-idx1-ubyte.gz 4542 bytes.\n",
      "Extracting /tmp/data/t10k-labels-idx1-ubyte.gz\n",
      "Accuracy at step 0: 0.1199\n",
      "Accuracy at step 10: 0.6656\n",
      "Accuracy at step 20: 0.8144\n",
      "Accuracy at step 30: 0.846\n",
      "Accuracy at step 40: 0.8681\n",
      "Accuracy at step 50: 0.8762\n",
      "Accuracy at step 60: 0.8834\n",
      "Accuracy at step 70: 0.8798\n",
      "Accuracy at step 80: 0.886\n",
      "Accuracy at step 90: 0.8869\n",
      "Adding run metadata for 99\n",
      "Accuracy at step 100: 0.9025\n",
      "Accuracy at step 110: 0.9145\n",
      "Accuracy at step 120: 0.9184\n",
      "Accuracy at step 130: 0.9162\n",
      "Accuracy at step 140: 0.9262\n",
      "Accuracy at step 150: 0.9182\n",
      "Accuracy at step 160: 0.9279\n",
      "Accuracy at step 170: 0.9274\n",
      "Accuracy at step 180: 0.9231\n",
      "Accuracy at step 190: 0.9241\n",
      "Adding run metadata for 199\n",
      "Accuracy at step 200: 0.9295\n",
      "Accuracy at step 210: 0.9331\n",
      "Accuracy at step 220: 0.9317\n",
      "Accuracy at step 230: 0.9347\n",
      "Accuracy at step 240: 0.9354\n",
      "Accuracy at step 250: 0.9287\n",
      "Accuracy at step 260: 0.9345\n",
      "Accuracy at step 270: 0.9366\n",
      "Accuracy at step 280: 0.9332\n",
      "Accuracy at step 290: 0.9396\n",
      "Adding run metadata for 299\n",
      "Accuracy at step 300: 0.9418\n",
      "Accuracy at step 310: 0.9418\n",
      "Accuracy at step 320: 0.9416\n",
      "Accuracy at step 330: 0.943\n",
      "Accuracy at step 340: 0.9481\n",
      "Accuracy at step 350: 0.9463\n",
      "Accuracy at step 360: 0.9389\n",
      "Accuracy at step 370: 0.9463\n",
      "Accuracy at step 380: 0.9438\n",
      "Accuracy at step 390: 0.9436\n",
      "Adding run metadata for 399\n",
      "Accuracy at step 400: 0.9466\n",
      "Accuracy at step 410: 0.9455\n",
      "Accuracy at step 420: 0.9456\n",
      "Accuracy at step 430: 0.9448\n",
      "Accuracy at step 440: 0.9508\n",
      "Accuracy at step 450: 0.9509\n",
      "Accuracy at step 460: 0.9495\n",
      "Accuracy at step 470: 0.9483\n",
      "Accuracy at step 480: 0.9505\n",
      "Accuracy at step 490: 0.9503\n",
      "Adding run metadata for 499\n",
      "Accuracy at step 500: 0.9524\n",
      "Accuracy at step 510: 0.9499\n",
      "Accuracy at step 520: 0.9519\n",
      "Accuracy at step 530: 0.9543\n",
      "Accuracy at step 540: 0.9563\n",
      "Accuracy at step 550: 0.9552\n",
      "Accuracy at step 560: 0.9527\n",
      "Accuracy at step 570: 0.9568\n",
      "Accuracy at step 580: 0.9549\n",
      "Accuracy at step 590: 0.9551\n",
      "Adding run metadata for 599\n",
      "Accuracy at step 600: 0.9564\n",
      "Accuracy at step 610: 0.9519\n",
      "Accuracy at step 620: 0.957\n",
      "Accuracy at step 630: 0.9569\n",
      "Accuracy at step 640: 0.9581\n",
      "Accuracy at step 650: 0.9584\n",
      "Accuracy at step 660: 0.9608\n",
      "Accuracy at step 670: 0.9619\n",
      "Accuracy at step 680: 0.9613\n",
      "Accuracy at step 690: 0.9593\n",
      "Adding run metadata for 699\n",
      "Accuracy at step 700: 0.9621\n",
      "Accuracy at step 710: 0.9625\n"
     ]
    }
   ],
   "source": [
    "%run \"../tensorflow/tensorflow/examples/tutorials/mnist/mnist_with_summaries.py\""
   ]
  },
  {
   "cell_type": "code",
   "execution_count": null,
   "metadata": {
    "collapsed": true
   },
   "outputs": [],
   "source": []
  }
 ],
 "metadata": {
  "kernelspec": {
   "display_name": "Python 2",
   "language": "python",
   "name": "python2"
  },
  "language_info": {
   "codemirror_mode": {
    "name": "ipython",
    "version": 2
   },
   "file_extension": ".py",
   "mimetype": "text/x-python",
   "name": "python",
   "nbconvert_exporter": "python",
   "pygments_lexer": "ipython2",
   "version": "2.7.10"
  }
 },
 "nbformat": 4,
 "nbformat_minor": 0
}
